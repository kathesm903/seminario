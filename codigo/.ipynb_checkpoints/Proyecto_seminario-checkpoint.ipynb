{
 "cells": [
  {
   "cell_type": "markdown",
   "metadata": {},
   "source": [
    "# Aplicación de un modelo oculto de Márkov para determinar el grado de honestidad de una persona alresponder preguntas."
   ]
  },
  {
   "cell_type": "markdown",
   "metadata": {},
   "source": [
    "### Dependencias:\n",
    "Para la realización de este proyecto se necesitaron las siguientes librerías:\n",
    "\n",
    "1. numpy: Es un paquete fundamental necesario para la computación científica con Python.\n",
    "2. pandas: Es una biblioteca de código abierto que proporciona estructuras de datos de alto rendimiento y fáciles de usar, y herramientas de análisis de datos.\n",
    "3. NetworkX: Es un paquete de Python para la creación, manipulación y estudio de la estructura, dinámica y funciones de redes complejas.\n",
    "4. Matplotlib: Es una biblioteca para hacer diagramas 2D de matrices en Python."
   ]
  },
  {
   "cell_type": "markdown",
   "metadata": {},
   "source": [
    "### Descripción del modelo:\n",
    "\n",
    "Este modelo permite descubrir si una persona es honesta por medio de \"señales honestas\" luego de realizarle varias preguntas en una entrevista.\n",
    "\n",
    "El modelo está compuesto de tres estados ocultos(deshonesto, insierto y honesto) con probabilidades iniciales de 1/3 cada uno, cinco estados observables(cubrirse la boca, mantener una mirada fija, mantener un tono de voz inestable, tocarse la nariz, rascarse el cuello o cubrir el área de la garganta), la matriz de transición de estados (MxM), la matriz de emisión (MxO) y una secuencia de datos de observación.\n",
    "\n",
    "La idea es determinar cual es el estado oculto mas probable al responder una pregunta. \n",
    "\n"
   ]
  },
  {
   "cell_type": "markdown",
   "metadata": {},
   "source": [
    "### Implementación del modelo:\n",
    "\n",
    "\n"
   ]
  },
  {
   "cell_type": "code",
   "execution_count": null,
   "metadata": {},
   "outputs": [],
   "source": [
    "def viterbi(pi, a, b, obs):\n",
    "    \n",
    "    nStates = np.shape(b)[0]\n",
    "    T = np.shape(obs)[0]\n",
    "   \n",
    "    # Camino inicial. Matrices con ceros.\n",
    "    path = np.zeros(T)\n",
    "    # delta --> mayor probabilidad de cualquier camino que alcance el estado i.\n",
    "    delta = np.zeros((nStates, T))\n",
    "    # phi --> argmax por paso de tiempo para cada estado\n",
    "    phi = np.zeros((nStates, T))\n",
    "    \n",
    "    # inicio\n",
    "    delta[:, 0] = pi * b[:, obs[0]]\n",
    "    phi[:, 0] = 0\n",
    "\n",
    "    print('\\nInicio. Caminar hacia adelante\\n')    \n",
    "    # Extensión del algoritmo directo\n",
    "    for t in range(1, T):\n",
    "        for s in range(nStates):\n",
    "                \n",
    "            delta[s, t] = np.max(delta[:, t-1] * a[:, s]) * b[s, obs[t]] \n",
    "            phi[s, t] = np.argmax(delta[:, t-1] * a[:, s])\n",
    "            print('s={s} and t={t}: phi[{s}, {t}] = {phi}'.format(s=s, t=t, phi=phi[s, t]))\n",
    "    \n",
    "    # Encontrar el camino óptimo\n",
    "    print('-'*50)\n",
    "    print('Iniciar retroceso\\n')\n",
    "    path[T-1] = np.argmax(delta[:, T-1])\n",
    "    \n",
    "    \n",
    "    for t in range(T-2, -1, -1):\n",
    "        \n",
    "        x = int(path[t+1])\n",
    "    \n",
    "        path[t] = phi[x, [t+1]]\n",
    "        print('path[{}] = {}'.format(t, path[t]))\n",
    "        \n",
    "    return path, delta, phi\n",
    "\n",
    "path, delta, phi = viterbi(pi, prob_hidden_states, b, obs)\n",
    "print('\\n La mejor ruta del estado: \\n', path)\n",
    "print('\\n delta:\\n', delta)\n",
    "print('phi:\\n', phi)\n"
   ]
  },
  {
   "cell_type": "markdown",
   "metadata": {},
   "source": [
    "### Descripción del entrenamiento:"
   ]
  },
  {
   "cell_type": "markdown",
   "metadata": {},
   "source": [
    "Se utilizó el algoritmo de Baum-Welch para definir la matriz de transición de estados ocultos y  la matriz de emision u observación. Este algoritmo de entrenamiento necesita como parámetros los estados observables, los estados ocultos y la probabilidad inicial de los estados ocultos. Luego estas matrices se pasan como parámetros al algoritmo de Viterbi junto con la probabilidad inicial de los estados ocultos para conseguir la secuencia mas probable de estados ocultos (deshonesto, neutral y honesto) que es producida por una secuencia de estados observables(cubrirse la boca, mantener una mirada fija, mantener un tono de voz inestable, tocarse la nariz, rascarse el cuello o cubrir el área de la garganta) con el fin de determinar si la persona entrevistada esta siendo honesta con sus respuestas."
   ]
  },
  {
   "cell_type": "code",
   "execution_count": null,
   "metadata": {},
   "outputs": [],
   "source": [
    "import pandas as pd\n",
    "import numpy as np\n",
    "\n",
    "\n",
    "def forward(V, a, b, initial_distribution):\n",
    "    alpha = np.zeros((V.shape[0], a.shape[0]))\n",
    "    alpha[0, :] = initial_distribution * b[:, V[0]]\n",
    "\n",
    "    for t in range(1, V.shape[0]):\n",
    "        for j in range(a.shape[0]):\n",
    "            # Matrix Computation Steps\n",
    "            #                  ((1x2) . (1x2))      *     (1)\n",
    "            #                        (1)            *     (1)\n",
    "            alpha[t, j] = alpha[t - 1].dot(a[:, j]) * b[j, V[t]]\n",
    "            \n",
    "    return alpha\n",
    " \n",
    "\n",
    "def backward(V, a, b):\n",
    "    beta = np.zeros((V.shape[0], a.shape[0]))\n",
    "    \n",
    "    # setting beta(T) = 1\n",
    "    beta[V.shape[0] - 1] = np.ones((a.shape[0]))\n",
    "\n",
    "    # Loop in backward way from T-1 to\n",
    "    # Due to python indexing the actual loop will be T-2 to 0\n",
    "    for t in range(V.shape[0] - 2, -1, -1):\n",
    "        for j in range(a.shape[0]):\n",
    "            beta[t, j] = (beta[t + 1] * b[:, V[t + 1]]).dot(a[j, :])\n",
    "    return beta\n",
    " \n",
    "\n",
    "def baum_welch(V, a, b, initial_distribution, n_iter=100):\n",
    "    M = a.shape[0]\n",
    "    T = len(V)\n",
    "\n",
    "    for n in range(n_iter):\n",
    "        alpha = forward(V, a, b, initial_distribution)\n",
    "        beta = backward(V, a, b)\n",
    "\n",
    "        xi = np.zeros((M, M, T - 1))\n",
    "        for t in range(T - 1):\n",
    "            denominator = np.dot(np.dot(alpha[t, :].T, a) * b[:, V[t + 1]].T, beta[t + 1, :])\n",
    "            for i in range(M):\n",
    "                numerator = alpha[t, i] * a[i, :] * b[:, V[t + 1]].T * beta[t + 1, :].T\n",
    "                xi[i, :, t] = numerator / denominator\n",
    "                \n",
    "        gamma = np.sum(xi, axis=1)\n",
    "        a = np.sum(xi, 2) / np.sum(gamma, axis=1).reshape((-1, 1))\n",
    "\n",
    "        # Add additional T'th element in gamma\n",
    "        gamma = np.hstack((gamma, np.sum(xi[:, :, T - 2], axis=0).reshape((-1, 1))))\n",
    "\n",
    "        K = b.shape[1]\n",
    "        denominator = np.sum(gamma, axis=1)\n",
    "        for l in range(K):\n",
    "            b[:, l] = np.sum(gamma[:, V == l], axis=1)\n",
    "\n",
    "        b = np.divide(b, denominator.reshape((-1, 1)))\n",
    "        \n",
    "    return {\"a\":a, \"b\":b}\n",
    " \n",
    "\n",
    "#data = pd.read_csv('data_python.csv')\n",
    "#V = data['Visible'].values\n",
    "\n",
    "V = np.array([1,1,2,1,0,1,2,1,0,2,2,0,1,0,1])\n",
    "# Transition Probabilities\n",
    "a = np.ones((2, 2))\n",
    "a = a / np.sum(a, axis=1)\n",
    "\n",
    "# Emission Probabilities\n",
    "b = np.array(((1, 3, 5), (2, 4, 6)))\n",
    "b = b / np.sum(b, axis=1).reshape((-1, 1))\n",
    "\n",
    "# Equal Probabilities for the initial distribution\n",
    "initial_distribution = np.array((0.5, 0.5))\n",
    "\n",
    "print(baum_welch(V, a, b, initial_distribution, n_iter=100))"
   ]
  },
  {
   "cell_type": "markdown",
   "metadata": {},
   "source": [
    "### Descripción de las pruebas:\n",
    "\n",
    "En este experimento se entrevistaron a 20 personas, a cada una de ellas se les hizo 40 preguntas por lo que se obtuvieron 800 registros en total. Estas respuestas permiten observar si una persona es honesta, deshonesta o insierto con respecto a los estados observables.\n",
    "\n",
    "Estos registros se introducen en archivos txt para pasarselos como parámetros al algoritmo de entrenamiento Baum-Welch."
   ]
  },
  {
   "cell_type": "code",
   "execution_count": null,
   "metadata": {},
   "outputs": [],
   "source": []
  }
 ],
 "metadata": {
  "kernelspec": {
   "display_name": "Python 3",
   "language": "python",
   "name": "python3"
  },
  "language_info": {
   "codemirror_mode": {
    "name": "ipython",
    "version": 3
   },
   "file_extension": ".py",
   "mimetype": "text/x-python",
   "name": "python",
   "nbconvert_exporter": "python",
   "pygments_lexer": "ipython3",
   "version": "3.7.3"
  }
 },
 "nbformat": 4,
 "nbformat_minor": 2
}
