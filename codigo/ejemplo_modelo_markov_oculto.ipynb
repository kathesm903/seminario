{
 "cells": [
  {
   "cell_type": "markdown",
   "metadata": {},
   "source": [
    "## Modelo Oculto de Márkov"
   ]
  },
  {
   "cell_type": "markdown",
   "metadata": {},
   "source": [
    "El Modelo Oculto de Márkov es un modelo estadístico que se asume que el sistema a modelar es de parámetros desconocidos. El objetivo es determinar los parámetros desconocidos u ocultos, a partir de parámetros observables.\n",
    "\n",
    "En un modelo de Márkov normal, el estado es visible directamente para el observador, por lo que las probabilidades de transición entre estados son los únicos parámetros. En un modelo oculto de Márkov, el estado no es visible directamente, sino que sólo lo son las variables influidas por el estado. Cada estado tiene una distribución de probabilidad sobre los posibles símbolos de salida. Consecuentemente, la secuencia de símbolos generada por un HMM proporciona cierta información acerca de la secuencia de estados."
   ]
  },
  {
   "cell_type": "markdown",
   "metadata": {},
   "source": [
    "### Definición Formal del Ejemplo:\n",
    "\n",
    "Sea $M = (Q, V, π, A, B)$ donde,\n",
    "\n",
    "$Q$ es el conjunto de estados:\n",
    "$Q = {Sano, Enfermo}$\n",
    "$π$ son las probabilidades iniciales:\n",
    "$π + {0.5, 0.5}$\n",
    "\n",
    "$V$ son los posibles valores observables en cada estado:\n",
    "$v = {Comiendo, Durmiendo, Defecando}$\n",
    "\n",
    "$A$ es el conjunto de probabilidades de transición entre estados:\n",
    "\n",
    "$A = {(Sano, Sano): 0.7, (Sano, Enfermo): 0.3, (Enfermo, Sano): 0.4, (Enfermo, Enfermo): 0.6}$\n",
    "\n",
    "$B$ es el conjunto de probabilidades de Observaciones desde un estado $Q_i$:\n",
    "\n",
    "$B = {(Enfermo, Comiendo): 0.1, (Enfermo, Defecando): 0.5, (Enfermo, Durmiendo): 0.4, (Sano, Comiendo): 0.6,\n",
    "(Sano, Defecando): 0.2, (Sano, Durmiendo): 0.2}$\n",
    "\n",
    "$O$ es la secuencia de observables:\n",
    "\n",
    "$O = (1,1,2,1,0,1,2,1,0,2,2,0,1,0,1)$"
   ]
  },
  {
   "cell_type": "markdown",
   "metadata": {},
   "source": [
    "###### Ejemplo:\n",
    "\n",
    "Se considera una situación en donde un bebé está actuando de manera extraña y se quiere modelar la probabilidad de que el comportamiento del bebé se deba a una enfermedad o simplemente a un comportamiento extraño cuando está sano. El bebé puede estar durmiendo, comiendo o defecando.\n",
    "\n",
    "Lo primero que se hará es crear los estados ocultos los cuales son: sano y enfermo. Cada estado tendrá una probabilidad de 50%"
   ]
  },
  {
   "cell_type": "code",
   "execution_count": 1,
   "metadata": {},
   "outputs": [
    {
     "name": "stdout",
     "output_type": "stream",
     "text": [
      "Sano       0.5\n",
      "Enfermo    0.5\n",
      "Name: Estados, dtype: float64\n",
      "\n",
      " 1.0\n"
     ]
    }
   ],
   "source": [
    "import numpy as np\n",
    "import pandas as pd\n",
    "import networkx as nx\n",
    "from matplotlib import pyplot as plt\n",
    "%matplotlib inline\n",
    "from pprint import pprint \n",
    "\n",
    "#Se asigna a un arreglo los estados ocultos\n",
    "hidden_states = ['Sano', 'Enfermo']\n",
    "#Estas son las probabilidades de estado inicial\n",
    "pi = [0.5, 0.5]\n",
    "state_space = pd.Series(pi, index=hidden_states, name='Estados')\n",
    "print(state_space)\n",
    "print('\\n', state_space.sum())"
   ]
  },
  {
   "cell_type": "markdown",
   "metadata": {},
   "source": [
    "Ahora se creará la matriz de transición para los estados ocultos:"
   ]
  },
  {
   "cell_type": "code",
   "execution_count": 2,
   "metadata": {},
   "outputs": [
    {
     "name": "stdout",
     "output_type": "stream",
     "text": [
      "        Sano Enfermo\n",
      "Sano     0.7     0.3\n",
      "Enfermo  0.4     0.6\n",
      "\n",
      " [[0.7 0.3]\n",
      " [0.4 0.6]] (2, 2) \n",
      "\n",
      "Sano       1.0\n",
      "Enfermo    1.0\n",
      "dtype: float64\n"
     ]
    }
   ],
   "source": [
    "#Matriz de probabilidad de transición de estados cambiantes dado un estado\n",
    "#Se crea una matriz (MxM) donde M es el número de estados.\n",
    "\n",
    "a_df = pd.DataFrame(columns=hidden_states, index=hidden_states)\n",
    "a_df.loc[hidden_states[0]] = [0.7, 0.3]\n",
    "a_df.loc[hidden_states[1]] = [0.4, 0.6]\n",
    "\n",
    "print(a_df)\n",
    "\n",
    "a = a_df.values\n",
    "print('\\n', a, a.shape, '\\n')\n",
    "print(a_df.sum(axis=1))"
   ]
  },
  {
   "cell_type": "markdown",
   "metadata": {},
   "source": [
    "Aquí se creará la matriz de transición de los datos observables. Son simplemente las probabilidades de permanecer en el mismo estado o pasar a un estado diferente dado el estado actual."
   ]
  },
  {
   "cell_type": "code",
   "execution_count": 3,
   "metadata": {},
   "outputs": [
    {
     "name": "stdout",
     "output_type": "stream",
     "text": [
      "          Durmiendo Comiendo Defecando\n",
      "Durmiendo       0.4      0.2       0.4\n",
      "Comiendo       0.45     0.45       0.1\n",
      "Defecando      0.45     0.25       0.3\n",
      "\n",
      " [[0.4 0.2 0.4]\n",
      " [0.45 0.45 0.1]\n",
      " [0.45 0.25 0.3]] (3, 3) \n",
      "\n",
      "Durmiendo    1.0\n",
      "Comiendo     1.0\n",
      "Defecando    1.0\n",
      "dtype: float64\n"
     ]
    }
   ],
   "source": [
    "#Matriz de transición de estados observables.\n",
    "#Matriz (MxM) donde M es el número de estados observables.\n",
    "\n",
    "states = ['Durmiendo', 'Comiendo', 'Defecando']\n",
    "observable_states = states\n",
    "\n",
    "q_df = pd.DataFrame(columns =states, index =states)\n",
    "q_df.loc[states[0]] = [0.4, 0.2, 0.4]\n",
    "q_df.loc[states[1]] = [0.45, 0.45, 0.1]\n",
    "q_df.loc[states[2]] = [0.45, 0.25, .3]\n",
    "print(q_df)\n",
    "q = q_df.values\n",
    "print('\\n', q, q.shape, '\\n')\n",
    "print(q_df.sum(axis=1))"
   ]
  },
  {
   "cell_type": "markdown",
   "metadata": {},
   "source": [
    "Luego se agrupan en parejas las probabilidades de que pase del estado actual a otro estado."
   ]
  },
  {
   "cell_type": "code",
   "execution_count": 4,
   "metadata": {},
   "outputs": [
    {
     "name": "stdout",
     "output_type": "stream",
     "text": [
      "{('Comiendo', 'Comiendo'): 0.45,\n",
      " ('Comiendo', 'Defecando'): 0.1,\n",
      " ('Comiendo', 'Durmiendo'): 0.45,\n",
      " ('Defecando', 'Comiendo'): 0.25,\n",
      " ('Defecando', 'Defecando'): 0.3,\n",
      " ('Defecando', 'Durmiendo'): 0.45,\n",
      " ('Durmiendo', 'Comiendo'): 0.2,\n",
      " ('Durmiendo', 'Defecando'): 0.4,\n",
      " ('Durmiendo', 'Durmiendo'): 0.4}\n"
     ]
    }
   ],
   "source": [
    "def _get_markov_edges(Q):\n",
    "    edges = {}\n",
    "    for col in Q.columns:\n",
    "        for idx in Q.index:\n",
    "            edges[(idx,col)] = Q.loc[idx,col]\n",
    "    return edges\n",
    "\n",
    "edges_wts = _get_markov_edges(q_df)\n",
    "pprint(edges_wts)"
   ]
  },
  {
   "cell_type": "markdown",
   "metadata": {},
   "source": [
    "Ahora se crea la matriz de probabilidad de emisión u observación . Esta matriz es de tamaño M x O, donde M es el número de estados ocultos y O es el número de estados observables posibles.\n",
    "\n",
    "La matriz de emisión informa de la probabilidad de que el bebé se encuentre en uno de los estados ocultos, dado el estado actual observable."
   ]
  },
  {
   "cell_type": "code",
   "execution_count": 5,
   "metadata": {},
   "outputs": [
    {
     "name": "stdout",
     "output_type": "stream",
     "text": [
      "        Durmiendo Comiendo Defecando\n",
      "Sano          0.2      0.6       0.2\n",
      "Enfermo       0.4      0.1       0.5\n",
      "\n",
      " [[0.2 0.6 0.2]\n",
      " [0.4 0.1 0.5]] (2, 3) \n",
      "\n",
      "Sano       1.0\n",
      "Enfermo    1.0\n",
      "dtype: float64\n"
     ]
    }
   ],
   "source": [
    "#Matriz de probabilidad de emisión u observación.\n",
    "#b = probabilidad de observación dada el estado.\n",
    "#La matriz es el tamaño (M x O) donde M es el número de estados\n",
    "#y O es el número de diferentes observaciones posibles.\n",
    "\n",
    "b_df = pd.DataFrame(columns=observable_states, index=hidden_states)\n",
    "b_df.loc[hidden_states[0]] = [0.2, 0.6, 0.2]\n",
    "b_df.loc[hidden_states[1]] = [0.4, 0.1, 0.5]\n",
    "\n",
    "print(b_df)\n",
    "\n",
    "b = b_df.values\n",
    "print('\\n', b, b.shape, '\\n')\n",
    "print(b_df.sum(axis=1))"
   ]
  },
  {
   "cell_type": "markdown",
   "metadata": {},
   "source": [
    "Se agrupan en parejas lo estados para poder observar el peso de cada transición:"
   ]
  },
  {
   "cell_type": "code",
   "execution_count": 6,
   "metadata": {},
   "outputs": [
    {
     "name": "stdout",
     "output_type": "stream",
     "text": [
      "Agrupaciones de la matriz de Estados Ocultos \n",
      "\n",
      "{('Enfermo', 'Enfermo'): 0.6,\n",
      " ('Enfermo', 'Sano'): 0.4,\n",
      " ('Sano', 'Enfermo'): 0.3,\n",
      " ('Sano', 'Sano'): 0.7}\n",
      "Agrupaciones de la matriz de Emision u Observación \n",
      "\n",
      "{('Enfermo', 'Comiendo'): 0.1,\n",
      " ('Enfermo', 'Defecando'): 0.5,\n",
      " ('Enfermo', 'Durmiendo'): 0.4,\n",
      " ('Sano', 'Comiendo'): 0.6,\n",
      " ('Sano', 'Defecando'): 0.2,\n",
      " ('Sano', 'Durmiendo'): 0.2}\n"
     ]
    }
   ],
   "source": [
    "#Se muestran las agrupaciones de la matriz de estados ocultos.\n",
    "print('Agrupaciones de la matriz de Estados Ocultos \\n')\n",
    "hide_edges_wts = _get_markov_edges(a_df)\n",
    "pprint(hide_edges_wts)\n",
    "\n",
    "#Se muestran las agrupaciones de la matriz de probabilidad de de emisión u observación.\n",
    "print('Agrupaciones de la matriz de Emision u Observación \\n')\n",
    "emit_edges_wts = _get_markov_edges(b_df)\n",
    "pprint(emit_edges_wts)"
   ]
  },
  {
   "cell_type": "markdown",
   "metadata": {},
   "source": [
    "Ahora se creará el gráfico Para poder observar mejor los estados y los pesos del Modelo Oculto de Markov"
   ]
  },
  {
   "cell_type": "code",
   "execution_count": 7,
   "metadata": {},
   "outputs": [
    {
     "name": "stdout",
     "output_type": "stream",
     "text": [
      "Nodos:\n",
      "['Sano', 'Enfermo']\n",
      "\n",
      "Bordes:\n",
      "\n",
      "('Sano', 'Sano', {'weight': 0.7, 'label': 0.7})\n",
      "('Sano', 'Enfermo', {'weight': 0.3, 'label': 0.3})\n",
      "('Sano', 'Durmiendo', {'weight': 0.2, 'label': 0.2})\n",
      "('Sano', 'Comiendo', {'weight': 0.6, 'label': 0.6})\n",
      "('Sano', 'Defecando', {'weight': 0.2, 'label': 0.2})\n",
      "('Enfermo', 'Sano', {'weight': 0.4, 'label': 0.4})\n",
      "('Enfermo', 'Enfermo', {'weight': 0.6, 'label': 0.6})\n",
      "('Enfermo', 'Durmiendo', {'weight': 0.4, 'label': 0.4})\n",
      "('Enfermo', 'Comiendo', {'weight': 0.1, 'label': 0.1})\n",
      "('Enfermo', 'Defecando', {'weight': 0.5, 'label': 0.5})\n"
     ]
    },
    {
     "data": {
      "image/png": "[encoded data removed]",
      "text/plain": [
       "<Figure size 432x288 with 1 Axes>"
      ]
     },
     "metadata": {},
     "output_type": "display_data"
    }
   ],
   "source": [
    "#Se crea el objeto gráfico.\n",
    "import warnings\n",
    "from matplotlib.cbook.deprecation import MatplotlibDeprecationWarning\n",
    "\n",
    "warnings.filterwarnings(\"ignore\", category=MatplotlibDeprecationWarning)\n",
    "G = nx.MultiDiGraph()\n",
    "\n",
    "#Los nodos corresponden a los estados.\n",
    "G.add_nodes_from(hidden_states)\n",
    "print(f'Nodos:\\n{G.nodes()}\\n')\n",
    "\n",
    "#Los bordes representan probabilidades ocultas\n",
    "for k, v in hide_edges_wts.items():\n",
    "    #print(k, v)\n",
    "    tmp_origin, tmp_destination = k[0], k[1]\n",
    "    G.add_edge(tmp_origin, tmp_destination, weight=v, label=v)\n",
    "    \n",
    "#Los bordes representan probabilidades de emisión u observación.\n",
    "\n",
    "for k, v in emit_edges_wts.items():\n",
    "    tmp_origin, tmp_destination = k[0], k[1]\n",
    "    G.add_edge(tmp_origin, tmp_destination, weight=v, label=v)\n",
    "    \n",
    "    \n",
    "print(f'Bordes:\\n')\n",
    "# Se imprimen las probabilidades de de transición de un estado a otro. \n",
    "for a in G.edges(data=True):\n",
    "    print(a)\n",
    "\n",
    "\n",
    "    \n",
    "pos = nx.drawing.nx_pydot.graphviz_layout(G, prog='neato')\n",
    "nx.draw_networkx(G, pos)\n",
    "\n",
    "#crear etiquetas  para los bordes\n",
    "emit_edge_labels = {(n1,n2):d['label'] for n1,n2,d in G.edges(data=True)}\n",
    "nx.draw_networkx_edge_labels(G , pos, edge_labels=emit_edge_labels)\n",
    "nx.drawing.nx_pydot.write_dot(G, 'pet_dog_hidden_markov.dot')"
   ]
  },
  {
   "cell_type": "markdown",
   "metadata": {},
   "source": [
    "En el diagrama anterior no se pueden observar las probabilidades de que permanezca en el mismo estado. Para poder continuar con la explicación, se creó un diagrama en el cual se puedan observar estas transiciones. "
   ]
  },
  {
   "cell_type": "markdown",
   "metadata": {},
   "source": [
    "<img src=\"imag_oculto.png\">"
   ]
  },
  {
   "cell_type": "markdown",
   "metadata": {},
   "source": [
    "En este modelo se puede observar las probabilidades de que el bebé esté o no enfermo dependiendo de lo que esté haciendo. Por ejemplo, si el bebé está durmiendo existe una alta probabilidad(40%) de que esté enfermo y una muy baja de que esté sano(20%)."
   ]
  },
  {
   "cell_type": "markdown",
   "metadata": {},
   "source": [
    "Por medio de una secuencia de observaciones se puede dicernir la salud del bebé a lo largo del tiempo "
   ]
  },
  {
   "cell_type": "code",
   "execution_count": 8,
   "metadata": {},
   "outputs": [
    {
     "name": "stdout",
     "output_type": "stream",
     "text": [
      "   Código  Secuencia\n",
      "0       1   Comiendo\n",
      "1       1   Comiendo\n",
      "2       2  Defecando\n",
      "3       1   Comiendo\n",
      "4       0  Durmiendo\n",
      "5       1   Comiendo\n",
      "6       2  Defecando\n",
      "7       1   Comiendo\n",
      "8       0  Durmiendo\n",
      "9       2  Defecando\n",
      "10      2  Defecando\n",
      "11      0  Durmiendo\n",
      "12      1   Comiendo\n",
      "13      0  Durmiendo\n",
      "14      1   Comiendo\n"
     ]
    }
   ],
   "source": [
    "prob_hidden_states = np.array([[0.7, 0.3], [0.4, 0.6]])\n",
    "\n",
    "obs_map = {'Durmiendo':0, 'Comiendo':1, 'Defecando':2}\n",
    "obs = np.array([1,1,2,1,0,1,2,1,0,2,2,0,1,0,1])\n",
    "\n",
    "array_nstates = ([])\n",
    "inv_obs_map = dict((v,k) for k, v in obs_map.items())\n",
    "\n",
    "obs_seq = [inv_obs_map[v] for v in list(obs)]\n",
    "\n",
    "print( pd.DataFrame(np.column_stack([obs, obs_seq]), \n",
    "                columns=['Código', 'Secuencia']) )"
   ]
  },
  {
   "cell_type": "markdown",
   "metadata": {},
   "source": [
    "Se utilizará el algoritmo de Viterbi para identificar la secuencia más probable de estados ocultos dada la secuencia de observaciones. \n",
    "\n",
    "El algoritmo de Viterbi se incrementa en cada paso del tiempo, encontrando la probabilidad máxima de cualquier ruta que llegue al estado i en el tiempo t, que también tenga las observaciones correctas para la secuencia hasta el tiempo t.\n",
    "\n",
    "El algoritmo también realiza un seguimiento del estado con la mayor probabilidad en cada etapa. Al final de la secuencia, el algoritmo iterará hacia atrás seleccionando el estado que \"ganó\" cada paso de tiempo, y creando así la ruta más probable, o la secuencia probable de estados ocultos que condujeron a la secuencia de observaciones."
   ]
  },
  {
   "cell_type": "code",
   "execution_count": 11,
   "metadata": {
    "scrolled": false
   },
   "outputs": [
    {
     "name": "stdout",
     "output_type": "stream",
     "text": [
      "B:  [[0.2 0.6 0.2]\n",
      " [0.4 0.1 0.5]]\n",
      "a:  [[0.7 0.3]\n",
      " [0.4 0.6]]\n",
      "nStates 2\n",
      "\n",
      "Inicio. Caminar hacia adelante\n",
      "\n",
      "s=0 and t=1: phi[0, 1] = 0.0\n",
      "s=1 and t=1: phi[1, 1] = 0.0\n",
      "s=0 and t=2: phi[0, 2] = 0.0\n",
      "s=1 and t=2: phi[1, 2] = 0.0\n",
      "s=0 and t=3: phi[0, 3] = 0.0\n",
      "s=1 and t=3: phi[1, 3] = 1.0\n",
      "s=0 and t=4: phi[0, 4] = 0.0\n",
      "s=1 and t=4: phi[1, 4] = 0.0\n",
      "s=0 and t=5: phi[0, 5] = 0.0\n",
      "s=1 and t=5: phi[1, 5] = 1.0\n",
      "s=0 and t=6: phi[0, 6] = 0.0\n",
      "s=1 and t=6: phi[1, 6] = 0.0\n",
      "s=0 and t=7: phi[0, 7] = 0.0\n",
      "s=1 and t=7: phi[1, 7] = 1.0\n",
      "s=0 and t=8: phi[0, 8] = 0.0\n",
      "s=1 and t=8: phi[1, 8] = 0.0\n",
      "s=0 and t=9: phi[0, 9] = 0.0\n",
      "s=1 and t=9: phi[1, 9] = 1.0\n",
      "s=0 and t=10: phi[0, 10] = 1.0\n",
      "s=1 and t=10: phi[1, 10] = 1.0\n",
      "s=0 and t=11: phi[0, 11] = 1.0\n",
      "s=1 and t=11: phi[1, 11] = 1.0\n",
      "s=0 and t=12: phi[0, 12] = 1.0\n",
      "s=1 and t=12: phi[1, 12] = 1.0\n",
      "s=0 and t=13: phi[0, 13] = 0.0\n",
      "s=1 and t=13: phi[1, 13] = 0.0\n",
      "s=0 and t=14: phi[0, 14] = 0.0\n",
      "s=1 and t=14: phi[1, 14] = 1.0\n",
      "--------------------------------------------------\n",
      "Iniciar retroceso\n",
      "\n",
      "path[13] = 0.0\n",
      "path[12] = 0.0\n",
      "path[11] = 1.0\n",
      "path[10] = 1.0\n",
      "path[9] = 1.0\n",
      "path[8] = 1.0\n",
      "path[7] = 0.0\n",
      "path[6] = 0.0\n",
      "path[5] = 0.0\n",
      "path[4] = 0.0\n",
      "path[3] = 0.0\n",
      "path[2] = 0.0\n",
      "path[1] = 0.0\n",
      "path[0] = 0.0\n",
      "\n",
      " La mejor ruta del estado: \n",
      " [0. 0. 0. 0. 0. 0. 0. 0. 1. 1. 1. 1. 0. 0. 0.]\n",
      "\n",
      " delta:\n",
      " [[3.00000000e-01 1.26000000e-01 1.76400000e-02 7.40880000e-03\n",
      "  1.03723200e-03 4.35637440e-04 6.09892416e-05 2.56154815e-05\n",
      "  3.58616741e-06 5.02063437e-07 7.37725866e-08 2.21317760e-08\n",
      "  1.59348787e-08 2.23088302e-09 9.36970868e-10]\n",
      " [5.00000000e-02 9.00000000e-03 1.89000000e-02 1.13400000e-03\n",
      "  8.89056000e-04 5.33433600e-05 6.53456160e-05 3.92073696e-06\n",
      "  3.07385778e-06 9.22157333e-07 2.76647200e-07 6.63953280e-08\n",
      "  3.98371968e-09 1.91218545e-09 1.14731127e-10]]\n",
      "phi:\n",
      " [[0. 0. 0. 0. 0. 0. 0. 0. 0. 0. 1. 1. 1. 0. 0.]\n",
      " [0. 0. 0. 1. 0. 1. 0. 1. 0. 1. 1. 1. 1. 0. 1.]]\n"
     ]
    }
   ],
   "source": [
    "def viterbi(pi, a, b, obs):\n",
    "    \n",
    "    nStates = np.shape(b)[0]\n",
    "    T = np.shape(obs)[0]\n",
    "    print('nStates', nStates)\n",
    "    # Camino inicial. Matrices con ceros.\n",
    "    path = np.zeros(T)\n",
    "    # delta --> mayor probabilidad de cualquier camino que alcance el estado i.\n",
    "    delta = np.zeros((nStates, T))\n",
    "    # phi --> argmax por paso de tiempo para cada estado\n",
    "    phi = np.zeros((nStates, T))\n",
    "    \n",
    "    # inicio\n",
    "    delta[:, 0] = pi * b[:, obs[0]]\n",
    "    phi[:, 0] = 0\n",
    "\n",
    "    print('\\nInicio. Caminar hacia adelante\\n')    \n",
    "    # Extensión del algoritmo directo\n",
    "    for t in range(1, T):\n",
    "        for s in range(nStates):\n",
    "                \n",
    "            delta[s, t] = np.max(delta[:, t-1] * a[:, s]) * b[s, obs[t]] \n",
    "            phi[s, t] = np.argmax(delta[:, t-1] * a[:, s])\n",
    "            print('s={s} and t={t}: phi[{s}, {t}] = {phi}'.format(s=s, t=t, phi=phi[s, t]))\n",
    "    \n",
    "    # Encontrar el camino óptimo\n",
    "    print('-'*50)\n",
    "    print('Iniciar retroceso\\n')\n",
    "    path[T-1] = np.argmax(delta[:, T-1])\n",
    "    \n",
    "    \n",
    "    for t in range(T-2, -1, -1):\n",
    "        \n",
    "        x = int(path[t+1])\n",
    "    \n",
    "        path[t] = phi[x, [t+1]]\n",
    "        print('path[{}] = {}'.format(t, path[t]))\n",
    "        \n",
    "    return path, delta, phi\n",
    "\n",
    "\n",
    "print('B: ', b)\n",
    "print('a: ',prob_hidden_states)\n",
    "path, delta, phi = viterbi(pi, prob_hidden_states, b, obs)\n",
    "print('\\n La mejor ruta del estado: \\n', path)\n",
    "print('\\n delta:\\n', delta)\n",
    "print('phi:\\n', phi)\n"
   ]
  },
  {
   "cell_type": "code",
   "execution_count": 10,
   "metadata": {},
   "outputs": [
    {
     "data": {
      "text/html": [
       "<div>\n",
       "<style scoped>\n",
       "    .dataframe tbody tr th:only-of-type {\n",
       "        vertical-align: middle;\n",
       "    }\n",
       "\n",
       "    .dataframe tbody tr th {\n",
       "        vertical-align: top;\n",
       "    }\n",
       "\n",
       "    .dataframe thead th {\n",
       "        text-align: right;\n",
       "    }\n",
       "</style>\n",
       "<table border=\"1\" class=\"dataframe\">\n",
       "  <thead>\n",
       "    <tr style=\"text-align: right;\">\n",
       "      <th></th>\n",
       "      <th>Observación</th>\n",
       "      <th>Mejor_Camino</th>\n",
       "    </tr>\n",
       "  </thead>\n",
       "  <tbody>\n",
       "    <tr>\n",
       "      <th>0</th>\n",
       "      <td>Comiendo</td>\n",
       "      <td>Sano</td>\n",
       "    </tr>\n",
       "    <tr>\n",
       "      <th>1</th>\n",
       "      <td>Comiendo</td>\n",
       "      <td>Sano</td>\n",
       "    </tr>\n",
       "    <tr>\n",
       "      <th>2</th>\n",
       "      <td>Defecando</td>\n",
       "      <td>Sano</td>\n",
       "    </tr>\n",
       "    <tr>\n",
       "      <th>3</th>\n",
       "      <td>Comiendo</td>\n",
       "      <td>Sano</td>\n",
       "    </tr>\n",
       "    <tr>\n",
       "      <th>4</th>\n",
       "      <td>Durmiendo</td>\n",
       "      <td>Sano</td>\n",
       "    </tr>\n",
       "    <tr>\n",
       "      <th>5</th>\n",
       "      <td>Comiendo</td>\n",
       "      <td>Sano</td>\n",
       "    </tr>\n",
       "    <tr>\n",
       "      <th>6</th>\n",
       "      <td>Defecando</td>\n",
       "      <td>Sano</td>\n",
       "    </tr>\n",
       "    <tr>\n",
       "      <th>7</th>\n",
       "      <td>Comiendo</td>\n",
       "      <td>Sano</td>\n",
       "    </tr>\n",
       "    <tr>\n",
       "      <th>8</th>\n",
       "      <td>Durmiendo</td>\n",
       "      <td>Enfermo</td>\n",
       "    </tr>\n",
       "    <tr>\n",
       "      <th>9</th>\n",
       "      <td>Defecando</td>\n",
       "      <td>Enfermo</td>\n",
       "    </tr>\n",
       "    <tr>\n",
       "      <th>10</th>\n",
       "      <td>Defecando</td>\n",
       "      <td>Enfermo</td>\n",
       "    </tr>\n",
       "    <tr>\n",
       "      <th>11</th>\n",
       "      <td>Durmiendo</td>\n",
       "      <td>Enfermo</td>\n",
       "    </tr>\n",
       "    <tr>\n",
       "      <th>12</th>\n",
       "      <td>Comiendo</td>\n",
       "      <td>Sano</td>\n",
       "    </tr>\n",
       "    <tr>\n",
       "      <th>13</th>\n",
       "      <td>Durmiendo</td>\n",
       "      <td>Sano</td>\n",
       "    </tr>\n",
       "    <tr>\n",
       "      <th>14</th>\n",
       "      <td>Comiendo</td>\n",
       "      <td>Sano</td>\n",
       "    </tr>\n",
       "  </tbody>\n",
       "</table>\n",
       "</div>"
      ],
      "text/plain": [
       "   Observación Mejor_Camino\n",
       "0     Comiendo         Sano\n",
       "1     Comiendo         Sano\n",
       "2    Defecando         Sano\n",
       "3     Comiendo         Sano\n",
       "4    Durmiendo         Sano\n",
       "5     Comiendo         Sano\n",
       "6    Defecando         Sano\n",
       "7     Comiendo         Sano\n",
       "8    Durmiendo      Enfermo\n",
       "9    Defecando      Enfermo\n",
       "10   Defecando      Enfermo\n",
       "11   Durmiendo      Enfermo\n",
       "12    Comiendo         Sano\n",
       "13   Durmiendo         Sano\n",
       "14    Comiendo         Sano"
      ]
     },
     "execution_count": 10,
     "metadata": {},
     "output_type": "execute_result"
    }
   ],
   "source": [
    "state_map = {0:'Sano', 1:'Enfermo'}\n",
    "state_path = [state_map[v] for v in path]\n",
    "\n",
    "(pd.DataFrame()\n",
    " .assign(Observación=obs_seq)\n",
    " .assign(Mejor_Camino=state_path))"
   ]
  }
 ],
 "metadata": {
  "kernelspec": {
   "display_name": "Python 3",
   "language": "python",
   "name": "python3"
  },
  "language_info": {
   "codemirror_mode": {
    "name": "ipython",
    "version": 3
   },
   "file_extension": ".py",
   "mimetype": "text/x-python",
   "name": "python",
   "nbconvert_exporter": "python",
   "pygments_lexer": "ipython3",
   "version": "3.7.3"
  }
 },
 "nbformat": 4,
 "nbformat_minor": 2
}
